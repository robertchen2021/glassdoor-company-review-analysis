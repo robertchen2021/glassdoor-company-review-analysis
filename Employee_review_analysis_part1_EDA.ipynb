{
 "cells": [
  {
   "cell_type": "markdown",
   "metadata": {},
   "source": [
    "# Employee Review Analysis - Part 1 EDA\n",
    "\n",
    "#### Dataset:\n",
    "This dataset is about a company's employee review and it was scrapped from Glassdoor. The usage of this datset has been approved by Glassdoor in written."
   ]
  },
  {
   "cell_type": "markdown",
   "metadata": {},
   "source": [
    "### 1. Load the Data"
   ]
  },
  {
   "cell_type": "code",
   "execution_count": 1,
   "metadata": {},
   "outputs": [
    {
     "data": {
      "text/html": [
       "<div>\n",
       "<style scoped>\n",
       "    .dataframe tbody tr th:only-of-type {\n",
       "        vertical-align: middle;\n",
       "    }\n",
       "\n",
       "    .dataframe tbody tr th {\n",
       "        vertical-align: top;\n",
       "    }\n",
       "\n",
       "    .dataframe thead th {\n",
       "        text-align: right;\n",
       "    }\n",
       "</style>\n",
       "<table border=\"1\" class=\"dataframe\">\n",
       "  <thead>\n",
       "    <tr style=\"text-align: right;\">\n",
       "      <th></th>\n",
       "      <th>Con</th>\n",
       "      <th>Career Opportunities</th>\n",
       "      <th>Author Location</th>\n",
       "      <th>Summary</th>\n",
       "      <th>Senior Management</th>\n",
       "      <th>Pro</th>\n",
       "      <th>Recommendation</th>\n",
       "      <th>Culture &amp; Values</th>\n",
       "      <th>Author Years</th>\n",
       "      <th>Overall Rating</th>\n",
       "      <th>Compensation and Benefits</th>\n",
       "      <th>Author Title</th>\n",
       "      <th>Work/Life Balance</th>\n",
       "      <th>Comment Datetime</th>\n",
       "    </tr>\n",
       "  </thead>\n",
       "  <tbody>\n",
       "    <tr>\n",
       "      <th>0</th>\n",
       "      <td>- potentially slow upward movement beyond the ...</td>\n",
       "      <td>5.0</td>\n",
       "      <td>Salt Lake City, UT</td>\n",
       "      <td>\"Awesome Culture\"</td>\n",
       "      <td>4.0</td>\n",
       "      <td>- awesome introduction into finance (no prior ...</td>\n",
       "      <td>Recommends,Positive Outlook,Approves of CEO</td>\n",
       "      <td>5.0</td>\n",
       "      <td>I have been working at Anonymous Investments f...</td>\n",
       "      <td>5.0</td>\n",
       "      <td>5.0</td>\n",
       "      <td>Current Employee - Investment Solutions Repres...</td>\n",
       "      <td>5.0</td>\n",
       "      <td>2020-06-18</td>\n",
       "    </tr>\n",
       "    <tr>\n",
       "      <th>1</th>\n",
       "      <td>Few jobs are off the phones. Call after call g...</td>\n",
       "      <td>NaN</td>\n",
       "      <td>NaN</td>\n",
       "      <td>\"Great job\"</td>\n",
       "      <td>NaN</td>\n",
       "      <td>Great benefits, great people. Work from home f...</td>\n",
       "      <td>Recommends,Positive Outlook,Approves of CEO</td>\n",
       "      <td>NaN</td>\n",
       "      <td>I have been working at Anonymous Investments f...</td>\n",
       "      <td>5.0</td>\n",
       "      <td>NaN</td>\n",
       "      <td>Current Employee - Investment Solutions Repres...</td>\n",
       "      <td>NaN</td>\n",
       "      <td>2020-06-16</td>\n",
       "    </tr>\n",
       "    <tr>\n",
       "      <th>2</th>\n",
       "      <td>Phone call center, must be good on the phones.</td>\n",
       "      <td>5.0</td>\n",
       "      <td>American Fork, UT</td>\n",
       "      <td>\"Great place to work\"</td>\n",
       "      <td>4.0</td>\n",
       "      <td>Excellent benefits, plenty of opportunity to a...</td>\n",
       "      <td>NaN</td>\n",
       "      <td>5.0</td>\n",
       "      <td>I worked at Anonymous Investments full-time fo...</td>\n",
       "      <td>5.0</td>\n",
       "      <td>5.0</td>\n",
       "      <td>Former Employee - High Net Worth Service Assoc...</td>\n",
       "      <td>5.0</td>\n",
       "      <td>2020-06-17</td>\n",
       "    </tr>\n",
       "    <tr>\n",
       "      <th>3</th>\n",
       "      <td>Easy to get fired. They don’t always give warn...</td>\n",
       "      <td>4.0</td>\n",
       "      <td>NaN</td>\n",
       "      <td>\"Good environment, not so stable.\"</td>\n",
       "      <td>3.0</td>\n",
       "      <td>Good environment \\n\\nNice scenery, cafeteria, ...</td>\n",
       "      <td>Recommends</td>\n",
       "      <td>3.0</td>\n",
       "      <td>I worked at Anonymous Investments full-time</td>\n",
       "      <td>4.0</td>\n",
       "      <td>5.0</td>\n",
       "      <td>Former Employee - Financial Associate</td>\n",
       "      <td>3.0</td>\n",
       "      <td>2020-06-11</td>\n",
       "    </tr>\n",
       "    <tr>\n",
       "      <th>4</th>\n",
       "      <td>No cons in my opinion</td>\n",
       "      <td>5.0</td>\n",
       "      <td>Los Angeles, CA</td>\n",
       "      <td>\"Great company\"</td>\n",
       "      <td>4.0</td>\n",
       "      <td>Good work environment in my opinion</td>\n",
       "      <td>Recommends,Positive Outlook,Approves of CEO</td>\n",
       "      <td>5.0</td>\n",
       "      <td>I worked at Anonymous Investments full-time</td>\n",
       "      <td>5.0</td>\n",
       "      <td>4.0</td>\n",
       "      <td>Former Employee - Investment Consultant</td>\n",
       "      <td>5.0</td>\n",
       "      <td>2020-06-11</td>\n",
       "    </tr>\n",
       "  </tbody>\n",
       "</table>\n",
       "</div>"
      ],
      "text/plain": [
       "                                                 Con  Career Opportunities  \\\n",
       "0  - potentially slow upward movement beyond the ...                   5.0   \n",
       "1  Few jobs are off the phones. Call after call g...                   NaN   \n",
       "2     Phone call center, must be good on the phones.                   5.0   \n",
       "3  Easy to get fired. They don’t always give warn...                   4.0   \n",
       "4                              No cons in my opinion                   5.0   \n",
       "\n",
       "      Author Location                             Summary  Senior Management  \\\n",
       "0  Salt Lake City, UT                   \"Awesome Culture\"                4.0   \n",
       "1                 NaN                         \"Great job\"                NaN   \n",
       "2   American Fork, UT               \"Great place to work\"                4.0   \n",
       "3                 NaN  \"Good environment, not so stable.\"                3.0   \n",
       "4     Los Angeles, CA                     \"Great company\"                4.0   \n",
       "\n",
       "                                                 Pro  \\\n",
       "0  - awesome introduction into finance (no prior ...   \n",
       "1  Great benefits, great people. Work from home f...   \n",
       "2  Excellent benefits, plenty of opportunity to a...   \n",
       "3  Good environment \\n\\nNice scenery, cafeteria, ...   \n",
       "4                Good work environment in my opinion   \n",
       "\n",
       "                                Recommendation  Culture & Values  \\\n",
       "0  Recommends,Positive Outlook,Approves of CEO               5.0   \n",
       "1  Recommends,Positive Outlook,Approves of CEO               NaN   \n",
       "2                                          NaN               5.0   \n",
       "3                                   Recommends               3.0   \n",
       "4  Recommends,Positive Outlook,Approves of CEO               5.0   \n",
       "\n",
       "                                        Author Years  Overall Rating  \\\n",
       "0  I have been working at Anonymous Investments f...             5.0   \n",
       "1  I have been working at Anonymous Investments f...             5.0   \n",
       "2  I worked at Anonymous Investments full-time fo...             5.0   \n",
       "3        I worked at Anonymous Investments full-time             4.0   \n",
       "4        I worked at Anonymous Investments full-time             5.0   \n",
       "\n",
       "   Compensation and Benefits  \\\n",
       "0                        5.0   \n",
       "1                        NaN   \n",
       "2                        5.0   \n",
       "3                        5.0   \n",
       "4                        4.0   \n",
       "\n",
       "                                        Author Title  Work/Life Balance  \\\n",
       "0  Current Employee - Investment Solutions Repres...                5.0   \n",
       "1  Current Employee - Investment Solutions Repres...                NaN   \n",
       "2  Former Employee - High Net Worth Service Assoc...                5.0   \n",
       "3              Former Employee - Financial Associate                3.0   \n",
       "4            Former Employee - Investment Consultant                5.0   \n",
       "\n",
       "  Comment Datetime  \n",
       "0       2020-06-18  \n",
       "1       2020-06-16  \n",
       "2       2020-06-17  \n",
       "3       2020-06-11  \n",
       "4       2020-06-11  "
      ]
     },
     "execution_count": 1,
     "metadata": {},
     "output_type": "execute_result"
    }
   ],
   "source": [
    "import pandas as pd\n",
    "\n",
    "# use the first column as index, parse 'Comment Datetime' to datetime object\n",
    "df = pd.read_csv('company1_review.csv',index_col=[0], parse_dates=['Comment Datetime']) \n",
    "df.head()"
   ]
  },
  {
   "cell_type": "code",
   "execution_count": 2,
   "metadata": {},
   "outputs": [
    {
     "data": {
      "text/plain": [
       "(6675, 14)"
      ]
     },
     "execution_count": 2,
     "metadata": {},
     "output_type": "execute_result"
    }
   ],
   "source": [
    "df.shape"
   ]
  },
  {
   "cell_type": "code",
   "execution_count": 3,
   "metadata": {},
   "outputs": [
    {
     "data": {
      "text/plain": [
       "Index(['Con', 'Career Opportunities', 'Author Location', 'Summary',\n",
       "       'Senior Management', 'Pro', 'Recommendation', 'Culture & Values',\n",
       "       'Author Years', 'Overall Rating', 'Compensation and Benefits',\n",
       "       'Author Title', 'Work/Life Balance', 'Comment Datetime'],\n",
       "      dtype='object')"
      ]
     },
     "execution_count": 3,
     "metadata": {},
     "output_type": "execute_result"
    }
   ],
   "source": [
    "df.columns"
   ]
  },
  {
   "cell_type": "code",
   "execution_count": 4,
   "metadata": {},
   "outputs": [
    {
     "name": "stdout",
     "output_type": "stream",
     "text": [
      "<class 'pandas.core.frame.DataFrame'>\n",
      "Int64Index: 6675 entries, 0 to 6674\n",
      "Data columns (total 14 columns):\n",
      " #   Column                     Non-Null Count  Dtype         \n",
      "---  ------                     --------------  -----         \n",
      " 0   Con                        6675 non-null   object        \n",
      " 1   Career Opportunities       5952 non-null   float64       \n",
      " 2   Author Location            4054 non-null   object        \n",
      " 3   Summary                    6675 non-null   object        \n",
      " 4   Senior Management          5915 non-null   float64       \n",
      " 5   Pro                        6675 non-null   object        \n",
      " 6   Recommendation             5776 non-null   object        \n",
      " 7   Culture & Values           5097 non-null   float64       \n",
      " 8   Author Years               6675 non-null   object        \n",
      " 9   Overall Rating             6675 non-null   float64       \n",
      " 10  Compensation and Benefits  5961 non-null   float64       \n",
      " 11  Author Title               5649 non-null   object        \n",
      " 12  Work/Life Balance          5956 non-null   float64       \n",
      " 13  Comment Datetime           6675 non-null   datetime64[ns]\n",
      "dtypes: datetime64[ns](1), float64(6), object(7)\n",
      "memory usage: 782.2+ KB\n"
     ]
    }
   ],
   "source": [
    "df.info()"
   ]
  },
  {
   "cell_type": "markdown",
   "metadata": {},
   "source": [
    "### 2. Data Cleaning"
   ]
  },
  {
   "cell_type": "markdown",
   "metadata": {},
   "source": [
    "#### Handle Missing Values in Numerical Ratings\n",
    "First, we fill the missing ratings with each column's median ratings."
   ]
  },
  {
   "cell_type": "code",
   "execution_count": 5,
   "metadata": {},
   "outputs": [],
   "source": [
    "# separate the dataframes into 2 parts: numerical rating columns and string columns\n",
    "\n",
    "rating_columns = df.select_dtypes(include = ['float64'])\n",
    "string_columns = df.select_dtypes(exclude = ['float64'])"
   ]
  },
  {
   "cell_type": "code",
   "execution_count": 6,
   "metadata": {},
   "outputs": [
    {
     "name": "stdout",
     "output_type": "stream",
     "text": [
      "<class 'pandas.core.frame.DataFrame'>\n",
      "Int64Index: 6675 entries, 0 to 6674\n",
      "Data columns (total 6 columns):\n",
      " #   Column                     Non-Null Count  Dtype  \n",
      "---  ------                     --------------  -----  \n",
      " 0   Career Opportunities       6675 non-null   float64\n",
      " 1   Senior Management          6675 non-null   float64\n",
      " 2   Culture & Values           6675 non-null   float64\n",
      " 3   Overall Rating             6675 non-null   float64\n",
      " 4   Compensation and Benefits  6675 non-null   float64\n",
      " 5   Work/Life Balance          6675 non-null   float64\n",
      "dtypes: float64(6)\n",
      "memory usage: 365.0 KB\n"
     ]
    }
   ],
   "source": [
    "# fill missing rating values with median ratings\n",
    "\n",
    "rating_columns = rating_columns.fillna(round(rating_columns.median(),1))\n",
    "rating_columns.info()"
   ]
  },
  {
   "cell_type": "code",
   "execution_count": 7,
   "metadata": {},
   "outputs": [
    {
     "data": {
      "text/html": [
       "<div>\n",
       "<style scoped>\n",
       "    .dataframe tbody tr th:only-of-type {\n",
       "        vertical-align: middle;\n",
       "    }\n",
       "\n",
       "    .dataframe tbody tr th {\n",
       "        vertical-align: top;\n",
       "    }\n",
       "\n",
       "    .dataframe thead th {\n",
       "        text-align: right;\n",
       "    }\n",
       "</style>\n",
       "<table border=\"1\" class=\"dataframe\">\n",
       "  <thead>\n",
       "    <tr style=\"text-align: right;\">\n",
       "      <th></th>\n",
       "      <th>Con</th>\n",
       "      <th>Author Location</th>\n",
       "      <th>Summary</th>\n",
       "      <th>Pro</th>\n",
       "      <th>Recommendation</th>\n",
       "      <th>Author Years</th>\n",
       "      <th>Author Title</th>\n",
       "      <th>Comment Datetime</th>\n",
       "      <th>Career Opportunities</th>\n",
       "      <th>Senior Management</th>\n",
       "      <th>Culture &amp; Values</th>\n",
       "      <th>Overall Rating</th>\n",
       "      <th>Compensation and Benefits</th>\n",
       "      <th>Work/Life Balance</th>\n",
       "    </tr>\n",
       "  </thead>\n",
       "  <tbody>\n",
       "    <tr>\n",
       "      <th>0</th>\n",
       "      <td>- potentially slow upward movement beyond the ...</td>\n",
       "      <td>Salt Lake City, UT</td>\n",
       "      <td>\"Awesome Culture\"</td>\n",
       "      <td>- awesome introduction into finance (no prior ...</td>\n",
       "      <td>Recommends,Positive Outlook,Approves of CEO</td>\n",
       "      <td>I have been working at Anonymous Investments f...</td>\n",
       "      <td>Current Employee - Investment Solutions Repres...</td>\n",
       "      <td>2020-06-18</td>\n",
       "      <td>5.0</td>\n",
       "      <td>4.0</td>\n",
       "      <td>5.0</td>\n",
       "      <td>5.0</td>\n",
       "      <td>5.0</td>\n",
       "      <td>5.0</td>\n",
       "    </tr>\n",
       "    <tr>\n",
       "      <th>1</th>\n",
       "      <td>Few jobs are off the phones. Call after call g...</td>\n",
       "      <td>NaN</td>\n",
       "      <td>\"Great job\"</td>\n",
       "      <td>Great benefits, great people. Work from home f...</td>\n",
       "      <td>Recommends,Positive Outlook,Approves of CEO</td>\n",
       "      <td>I have been working at Anonymous Investments f...</td>\n",
       "      <td>Current Employee - Investment Solutions Repres...</td>\n",
       "      <td>2020-06-16</td>\n",
       "      <td>3.5</td>\n",
       "      <td>3.0</td>\n",
       "      <td>4.0</td>\n",
       "      <td>5.0</td>\n",
       "      <td>4.0</td>\n",
       "      <td>4.0</td>\n",
       "    </tr>\n",
       "    <tr>\n",
       "      <th>2</th>\n",
       "      <td>Phone call center, must be good on the phones.</td>\n",
       "      <td>American Fork, UT</td>\n",
       "      <td>\"Great place to work\"</td>\n",
       "      <td>Excellent benefits, plenty of opportunity to a...</td>\n",
       "      <td>NaN</td>\n",
       "      <td>I worked at Anonymous Investments full-time fo...</td>\n",
       "      <td>Former Employee - High Net Worth Service Assoc...</td>\n",
       "      <td>2020-06-17</td>\n",
       "      <td>5.0</td>\n",
       "      <td>4.0</td>\n",
       "      <td>5.0</td>\n",
       "      <td>5.0</td>\n",
       "      <td>5.0</td>\n",
       "      <td>5.0</td>\n",
       "    </tr>\n",
       "    <tr>\n",
       "      <th>3</th>\n",
       "      <td>Easy to get fired. They don’t always give warn...</td>\n",
       "      <td>NaN</td>\n",
       "      <td>\"Good environment, not so stable.\"</td>\n",
       "      <td>Good environment \\n\\nNice scenery, cafeteria, ...</td>\n",
       "      <td>Recommends</td>\n",
       "      <td>I worked at Anonymous Investments full-time</td>\n",
       "      <td>Former Employee - Financial Associate</td>\n",
       "      <td>2020-06-11</td>\n",
       "      <td>4.0</td>\n",
       "      <td>3.0</td>\n",
       "      <td>3.0</td>\n",
       "      <td>4.0</td>\n",
       "      <td>5.0</td>\n",
       "      <td>3.0</td>\n",
       "    </tr>\n",
       "    <tr>\n",
       "      <th>4</th>\n",
       "      <td>No cons in my opinion</td>\n",
       "      <td>Los Angeles, CA</td>\n",
       "      <td>\"Great company\"</td>\n",
       "      <td>Good work environment in my opinion</td>\n",
       "      <td>Recommends,Positive Outlook,Approves of CEO</td>\n",
       "      <td>I worked at Anonymous Investments full-time</td>\n",
       "      <td>Former Employee - Investment Consultant</td>\n",
       "      <td>2020-06-11</td>\n",
       "      <td>5.0</td>\n",
       "      <td>4.0</td>\n",
       "      <td>5.0</td>\n",
       "      <td>5.0</td>\n",
       "      <td>4.0</td>\n",
       "      <td>5.0</td>\n",
       "    </tr>\n",
       "  </tbody>\n",
       "</table>\n",
       "</div>"
      ],
      "text/plain": [
       "                                                 Con     Author Location  \\\n",
       "0  - potentially slow upward movement beyond the ...  Salt Lake City, UT   \n",
       "1  Few jobs are off the phones. Call after call g...                 NaN   \n",
       "2     Phone call center, must be good on the phones.   American Fork, UT   \n",
       "3  Easy to get fired. They don’t always give warn...                 NaN   \n",
       "4                              No cons in my opinion     Los Angeles, CA   \n",
       "\n",
       "                              Summary  \\\n",
       "0                   \"Awesome Culture\"   \n",
       "1                         \"Great job\"   \n",
       "2               \"Great place to work\"   \n",
       "3  \"Good environment, not so stable.\"   \n",
       "4                     \"Great company\"   \n",
       "\n",
       "                                                 Pro  \\\n",
       "0  - awesome introduction into finance (no prior ...   \n",
       "1  Great benefits, great people. Work from home f...   \n",
       "2  Excellent benefits, plenty of opportunity to a...   \n",
       "3  Good environment \\n\\nNice scenery, cafeteria, ...   \n",
       "4                Good work environment in my opinion   \n",
       "\n",
       "                                Recommendation  \\\n",
       "0  Recommends,Positive Outlook,Approves of CEO   \n",
       "1  Recommends,Positive Outlook,Approves of CEO   \n",
       "2                                          NaN   \n",
       "3                                   Recommends   \n",
       "4  Recommends,Positive Outlook,Approves of CEO   \n",
       "\n",
       "                                        Author Years  \\\n",
       "0  I have been working at Anonymous Investments f...   \n",
       "1  I have been working at Anonymous Investments f...   \n",
       "2  I worked at Anonymous Investments full-time fo...   \n",
       "3        I worked at Anonymous Investments full-time   \n",
       "4        I worked at Anonymous Investments full-time   \n",
       "\n",
       "                                        Author Title Comment Datetime  \\\n",
       "0  Current Employee - Investment Solutions Repres...       2020-06-18   \n",
       "1  Current Employee - Investment Solutions Repres...       2020-06-16   \n",
       "2  Former Employee - High Net Worth Service Assoc...       2020-06-17   \n",
       "3              Former Employee - Financial Associate       2020-06-11   \n",
       "4            Former Employee - Investment Consultant       2020-06-11   \n",
       "\n",
       "   Career Opportunities  Senior Management  Culture & Values  Overall Rating  \\\n",
       "0                   5.0                4.0               5.0             5.0   \n",
       "1                   3.5                3.0               4.0             5.0   \n",
       "2                   5.0                4.0               5.0             5.0   \n",
       "3                   4.0                3.0               3.0             4.0   \n",
       "4                   5.0                4.0               5.0             5.0   \n",
       "\n",
       "   Compensation and Benefits  Work/Life Balance  \n",
       "0                        5.0                5.0  \n",
       "1                        4.0                4.0  \n",
       "2                        5.0                5.0  \n",
       "3                        5.0                3.0  \n",
       "4                        4.0                5.0  "
      ]
     },
     "execution_count": 7,
     "metadata": {},
     "output_type": "execute_result"
    }
   ],
   "source": [
    "# combine the 2 subset dataframes into 1 dataframe\n",
    "\n",
    "df_rating_filled = pd.concat([string_columns,rating_columns], axis = 1)\n",
    "df_rating_filled.head()"
   ]
  },
  {
   "cell_type": "markdown",
   "metadata": {},
   "source": [
    "Next, we are going to check the string columns."
   ]
  },
  {
   "cell_type": "code",
   "execution_count": 8,
   "metadata": {},
   "outputs": [
    {
     "name": "stdout",
     "output_type": "stream",
     "text": [
      "I have been working at Anonymous Investments full-time for more than a year\n",
      "Current Employee - Investment Solutions Representative\n",
      "\"Awesome Culture\"\n",
      "- awesome introduction into finance (no prior experience or related education) \n",
      "\n",
      "- respected and appreciated\n",
      "\n",
      "- good compensation\n",
      "- potentially slow upward movement beyond the first promotion\n",
      "====================\n",
      "I have been working at Anonymous Investments full-time for more than 3 years\n",
      "Current Employee - Investment Solutions Representative\n",
      "\"Great job\"\n",
      "Great benefits, great people. Work from home flexibility.\n",
      "Few jobs are off the phones. Call after call gets repetitive and exhausting.\n",
      "====================\n",
      "I worked at Anonymous Investments full-time for more than 5 years\n",
      "Former Employee - High Net Worth Service Associate\n",
      "\"Great place to work\"\n",
      "Excellent benefits, plenty of opportunity to add skills and advance to other roles.\n",
      "Phone call center, must be good on the phones.\n",
      "====================\n"
     ]
    }
   ],
   "source": [
    "# print out the first 3 records that have text\n",
    "\n",
    "for i in range(3):\n",
    "    print(df['Author Years'][i])\n",
    "    print(df['Author Title'][i])\n",
    "    print(df['Summary'][i])\n",
    "    print(df['Pro'][i])\n",
    "    print(df['Con'][i])\n",
    "    print('====================')"
   ]
  },
  {
   "cell_type": "markdown",
   "metadata": {},
   "source": [
    "#### Extract Categorical Information"
   ]
  },
  {
   "cell_type": "markdown",
   "metadata": {},
   "source": [
    "1. Extract information of 'Current/Former Employee' and 'Full-time/Part-time Employee' from column 'Author Year'. \n",
    "\n",
    "Of note, there is a column'Author Title\" which has part of \"Current Employee\" or \"Former Employee\" information, but there are more than 2000 null values. The other column \"Author Years\" column has no null values and the text contains relevant information about current/former employee flags, notice the string starts with either \"I have been working\" or \"I worked at\".Hence, we will use \"Author Year\" to extract employee type data. \n",
    "\n",
    "For full-time / part-time flags, we will get that information from \"Author Years\" column as well. If this information is not specified, we will default it to full-time. \n",
    "\n",
    "2. Extract job title or job family from column 'Author Title'.\n",
    "\n",
    "3. Extract employee tenure from column 'Author Years'.\n",
    "\n",
    "Take a look at the sample data:\n",
    "\n",
    "\"I have been working at Anonymous Investments full-time for more than a year\"<br>\n",
    "\"I have been working at Anonymous Investments full-time for more than 3 years\"<br>\n",
    "\"I worked at Anonymous Investments full-time for more than 5 years\"\n",
    "\n",
    "Notice there are 3 different patterns.There could be a number before year(s)(i.e. 3 years) or a letter before year (i.e. 'a year') or 'more than/less than'.\n",
    "\n",
    "First, we will replace 'a year' as '1 year', then find all 'more than/less than'. If there is 'more than', we will add 0.5 year to the number of year, if there is 'less than', we will minus 0.5 year from the numer of years. If no tenure is specified, we will set it to 0, because there are 2979 NaN values, we can't drop so many data."
   ]
  },
  {
   "cell_type": "code",
   "execution_count": 9,
   "metadata": {},
   "outputs": [],
   "source": [
    "# define a function to extract categorical information\n",
    "\n",
    "import numpy as np\n",
    "import re\n",
    "\n",
    "def extract_cat_data(row):\n",
    "    \n",
    "    # 1. extract current/former employee flags from'Author Years'\n",
    "    if not pd.isna(row['Author Years']):\n",
    "        if \"have been working\" in row['Author Years']:\n",
    "            row['Current Employee'] = 1\n",
    "        elif \"I worked at\" in row['Author Years']:\n",
    "            row['Current Employee'] = 0\n",
    "        else:\n",
    "            row['Current Employee'] = Np.Nan          \n",
    "    \n",
    "    \n",
    "    # 2. extract tenure from 'Author Years'\n",
    "    string_to_number = row[\"Author Years\"].replace(\"a year\", \"1 year\")   # replace 'a year' with '1 year'\n",
    "    tenure = re.findall(r'\\d+', string_to_number)  # find the digit in the string\n",
    "    \n",
    "    if tenure: \n",
    "        row['Tenure'] = int(tenure[0])             # use the number in the list\n",
    "        if 'more than' in row[\"Author Years\"]:     # add 0.5 years if there is 'more than'\n",
    "            row['Tenure'] += 0.5       \n",
    "        elif 'less than' in row[\"Author Years\"]:   # minus 0.5 years if there is 'less than'\n",
    "            row['Tenure'] -=0.5 \n",
    "    else:\n",
    "        row['Tenure'] = 0                          # if no tenure is specified, set to 0\n",
    "    \n",
    "    # 3. extract full-time/part-time flags from 'Author Years'\n",
    "    if 'full-time' in string_to_number or 'full time' in string_to_number:\n",
    "        row['Full-time'] = 1\n",
    "    elif 'part-time' in string_to_number or 'part time' in string_to_number:\n",
    "        row['Full-time'] = 0\n",
    "    else:\n",
    "        row['Full-time'] = 1                       # if not specified, set it to 1 (default to full time)\n",
    "    \n",
    "    \n",
    "    # 4. extract 'Recommended','Positive Outlook','Approves of CEO' from column'Recommendation' \n",
    "    row['Recommended'] = 0\n",
    "    row['Positive Outlook'] = 0\n",
    "    row['Approves of CEO'] = 0\n",
    "    \n",
    "    if not pd.isna(row['Recommendation']):\n",
    "        if 'Recommends' in row['Recommendation']:\n",
    "            row['Recommended'] = 1\n",
    "        elif \"Doesn't Recommend\" in row['Recommendation']:\n",
    "            row['Recommended'] = -1\n",
    "        \n",
    "        elif 'Positive Outlook' in row['Recommendation']:\n",
    "            row['Positive Outlook'] = 1\n",
    "        elif 'Negative Outlook' in row['Recommendation']:   \n",
    "            row['Positive Outlook'] = -1\n",
    "        elif 'Neutral Outlook' in row['Recommendation']: \n",
    "            row['Positive Outlook'] = 0\n",
    "            \n",
    "        elif 'Approves of CEO' in row['Recommendation']:\n",
    "            row['Approves of CEO'] = 1\n",
    "        elif 'Disapproves of CEO' in row['Recommendation']:\n",
    "            row['Approves of CEO'] = -1\n",
    "        elif 'No opinion of CEO' in row['Recommendation']:   \n",
    "            row['Approves of CEO'] = 0\n",
    "\n",
    "    return row\n",
    "\n",
    "df_cal_extracted = df_rating_filled.apply(extract_cat_data, axis=1)"
   ]
  },
  {
   "cell_type": "code",
   "execution_count": 10,
   "metadata": {},
   "outputs": [],
   "source": [
    "df_cal_extracted.drop(columns='Recommendation',inplace=True)"
   ]
  },
  {
   "cell_type": "markdown",
   "metadata": {},
   "source": [
    "#### Handle Missing Values in Categorical Columns"
   ]
  },
  {
   "cell_type": "code",
   "execution_count": 11,
   "metadata": {},
   "outputs": [
    {
     "data": {
      "text/plain": [
       "Con                             0\n",
       "Author Location              2621\n",
       "Summary                         0\n",
       "Pro                             0\n",
       "Author Years                    0\n",
       "Author Title                 1026\n",
       "Comment Datetime                0\n",
       "Career Opportunities            0\n",
       "Senior Management               0\n",
       "Culture & Values                0\n",
       "Overall Rating                  0\n",
       "Compensation and Benefits       0\n",
       "Work/Life Balance               0\n",
       "Current Employee                0\n",
       "Tenure                          0\n",
       "Full-time                       0\n",
       "Recommended                     0\n",
       "Positive Outlook                0\n",
       "Approves of CEO                 0\n",
       "dtype: int64"
      ]
     },
     "execution_count": 11,
     "metadata": {},
     "output_type": "execute_result"
    }
   ],
   "source": [
    "df_cal_extracted.isnull().sum()"
   ]
  },
  {
   "cell_type": "markdown",
   "metadata": {},
   "source": [
    "There are 2621 missing locations and 1026 missing job titles, since different branches and different job families are likely to have different employee satisfactions, we don't want to drop these columns, instead we will fill in the missing locations as \"NA\" and interpolate the missing job titles with \"Anonymous Job\"."
   ]
  },
  {
   "cell_type": "code",
   "execution_count": 12,
   "metadata": {},
   "outputs": [],
   "source": [
    "import re\n",
    "\n",
    "def extract_loc_job(row):\n",
    "    # extract locations\n",
    "    if not pd.isna(row['Author Location']):\n",
    "        if re.search(r'[A-Z]{2}$',row['Author Location']):       # extract the last 2 captical letters as state\n",
    "            row['State'] = re.search(r'[A-Z]{2}$',row['Author Location'])[0]\n",
    "        else:\n",
    "            row['State'] = 'NA'      \n",
    "    else:\n",
    "            row['State'] = 'NA'      # fill missing state as 'NA'\n",
    "    \n",
    "    # extract job title\n",
    "    if not pd.isna(row['Author Title']): \n",
    "        if '-'in row['Author Title']:\n",
    "            row['Job Title'] = row['Author Title'].split(\"-\")[1]    # get the 2nd element after the split\n",
    "        else:\n",
    "            row['Job Title'] = row['Author Title']\n",
    "    else:\n",
    "         row['Job Title'] = 'Anonymous Job'\n",
    "    \n",
    "    return row      \n",
    "            \n",
    "df_loc_job_filled = df_cal_extracted.apply(extract_loc_job,axis=1)    "
   ]
  },
  {
   "cell_type": "code",
   "execution_count": 13,
   "metadata": {},
   "outputs": [],
   "source": [
    "df_not_null = df_loc_job_filled.drop(columns = ['Author Title','Author Years','Author Location'])"
   ]
  },
  {
   "cell_type": "markdown",
   "metadata": {},
   "source": [
    "#### Reorder Columns\n",
    "Rearrange columns to make categorical columns together and rating columns together."
   ]
  },
  {
   "cell_type": "code",
   "execution_count": 14,
   "metadata": {},
   "outputs": [],
   "source": [
    "# Reorder the columns\n",
    "\n",
    "df_cleaned = df_not_null[['Comment Datetime', 'State', 'Job Title','Tenure','Current Employee','Full-time',\n",
    "                          'Summary','Pro','Con','Recommended', 'Positive Outlook','Approves of CEO',\n",
    "                          'Overall Rating','Career Opportunities','Compensation and Benefits',\n",
    "                          'Work/Life Balance','Senior Management','Culture & Values']]"
   ]
  },
  {
   "cell_type": "code",
   "execution_count": 15,
   "metadata": {},
   "outputs": [],
   "source": [
    "# set 'Comment Datetime' as index\n",
    "\n",
    "df_cleaned.set_index('Comment Datetime',inplace=True)"
   ]
  },
  {
   "cell_type": "code",
   "execution_count": 16,
   "metadata": {},
   "outputs": [
    {
     "data": {
      "text/html": [
       "<div>\n",
       "<style scoped>\n",
       "    .dataframe tbody tr th:only-of-type {\n",
       "        vertical-align: middle;\n",
       "    }\n",
       "\n",
       "    .dataframe tbody tr th {\n",
       "        vertical-align: top;\n",
       "    }\n",
       "\n",
       "    .dataframe thead th {\n",
       "        text-align: right;\n",
       "    }\n",
       "</style>\n",
       "<table border=\"1\" class=\"dataframe\">\n",
       "  <thead>\n",
       "    <tr style=\"text-align: right;\">\n",
       "      <th></th>\n",
       "      <th>State</th>\n",
       "      <th>Job Title</th>\n",
       "      <th>Tenure</th>\n",
       "      <th>Current Employee</th>\n",
       "      <th>Full-time</th>\n",
       "      <th>Summary</th>\n",
       "      <th>Pro</th>\n",
       "      <th>Con</th>\n",
       "      <th>Recommended</th>\n",
       "      <th>Positive Outlook</th>\n",
       "      <th>Approves of CEO</th>\n",
       "      <th>Overall Rating</th>\n",
       "      <th>Career Opportunities</th>\n",
       "      <th>Compensation and Benefits</th>\n",
       "      <th>Work/Life Balance</th>\n",
       "      <th>Senior Management</th>\n",
       "      <th>Culture &amp; Values</th>\n",
       "    </tr>\n",
       "    <tr>\n",
       "      <th>Comment Datetime</th>\n",
       "      <th></th>\n",
       "      <th></th>\n",
       "      <th></th>\n",
       "      <th></th>\n",
       "      <th></th>\n",
       "      <th></th>\n",
       "      <th></th>\n",
       "      <th></th>\n",
       "      <th></th>\n",
       "      <th></th>\n",
       "      <th></th>\n",
       "      <th></th>\n",
       "      <th></th>\n",
       "      <th></th>\n",
       "      <th></th>\n",
       "      <th></th>\n",
       "      <th></th>\n",
       "    </tr>\n",
       "  </thead>\n",
       "  <tbody>\n",
       "    <tr>\n",
       "      <th>2020-06-18</th>\n",
       "      <td>UT</td>\n",
       "      <td>Investment Solutions Representative</td>\n",
       "      <td>1.5</td>\n",
       "      <td>1</td>\n",
       "      <td>1</td>\n",
       "      <td>\"Awesome Culture\"</td>\n",
       "      <td>- awesome introduction into finance (no prior ...</td>\n",
       "      <td>- potentially slow upward movement beyond the ...</td>\n",
       "      <td>1</td>\n",
       "      <td>0</td>\n",
       "      <td>0</td>\n",
       "      <td>5.0</td>\n",
       "      <td>5.0</td>\n",
       "      <td>5.0</td>\n",
       "      <td>5.0</td>\n",
       "      <td>4.0</td>\n",
       "      <td>5.0</td>\n",
       "    </tr>\n",
       "  </tbody>\n",
       "</table>\n",
       "</div>"
      ],
      "text/plain": [
       "                 State                             Job Title  Tenure  \\\n",
       "Comment Datetime                                                       \n",
       "2020-06-18          UT   Investment Solutions Representative     1.5   \n",
       "\n",
       "                  Current Employee  Full-time            Summary  \\\n",
       "Comment Datetime                                                   \n",
       "2020-06-18                       1          1  \"Awesome Culture\"   \n",
       "\n",
       "                                                                Pro  \\\n",
       "Comment Datetime                                                      \n",
       "2020-06-18        - awesome introduction into finance (no prior ...   \n",
       "\n",
       "                                                                Con  \\\n",
       "Comment Datetime                                                      \n",
       "2020-06-18        - potentially slow upward movement beyond the ...   \n",
       "\n",
       "                  Recommended  Positive Outlook  Approves of CEO  \\\n",
       "Comment Datetime                                                   \n",
       "2020-06-18                  1                 0                0   \n",
       "\n",
       "                  Overall Rating  Career Opportunities  \\\n",
       "Comment Datetime                                         \n",
       "2020-06-18                   5.0                   5.0   \n",
       "\n",
       "                  Compensation and Benefits  Work/Life Balance  \\\n",
       "Comment Datetime                                                 \n",
       "2020-06-18                              5.0                5.0   \n",
       "\n",
       "                  Senior Management  Culture & Values  \n",
       "Comment Datetime                                       \n",
       "2020-06-18                      4.0               5.0  "
      ]
     },
     "execution_count": 16,
     "metadata": {},
     "output_type": "execute_result"
    }
   ],
   "source": [
    "# set dataframe by index\n",
    "\n",
    "df_cleand = df_cleaned.sort_index()\n",
    "df_cleaned.head(1)"
   ]
  },
  {
   "cell_type": "code",
   "execution_count": 17,
   "metadata": {},
   "outputs": [
    {
     "name": "stdout",
     "output_type": "stream",
     "text": [
      "<class 'pandas.core.frame.DataFrame'>\n",
      "DatetimeIndex: 6675 entries, 2020-06-18 to 2008-08-07\n",
      "Data columns (total 17 columns):\n",
      " #   Column                     Non-Null Count  Dtype  \n",
      "---  ------                     --------------  -----  \n",
      " 0   State                      6675 non-null   object \n",
      " 1   Job Title                  6675 non-null   object \n",
      " 2   Tenure                     6675 non-null   float64\n",
      " 3   Current Employee           6675 non-null   int64  \n",
      " 4   Full-time                  6675 non-null   int64  \n",
      " 5   Summary                    6675 non-null   object \n",
      " 6   Pro                        6675 non-null   object \n",
      " 7   Con                        6675 non-null   object \n",
      " 8   Recommended                6675 non-null   int64  \n",
      " 9   Positive Outlook           6675 non-null   int64  \n",
      " 10  Approves of CEO            6675 non-null   int64  \n",
      " 11  Overall Rating             6675 non-null   float64\n",
      " 12  Career Opportunities       6675 non-null   float64\n",
      " 13  Compensation and Benefits  6675 non-null   float64\n",
      " 14  Work/Life Balance          6675 non-null   float64\n",
      " 15  Senior Management          6675 non-null   float64\n",
      " 16  Culture & Values           6675 non-null   float64\n",
      "dtypes: float64(7), int64(5), object(5)\n",
      "memory usage: 938.7+ KB\n"
     ]
    }
   ],
   "source": [
    "df_cleaned.info()"
   ]
  },
  {
   "cell_type": "markdown",
   "metadata": {},
   "source": [
    "Now all columns are complete with no missing values. Nex, we will do some exploratory analysis."
   ]
  },
  {
   "cell_type": "markdown",
   "metadata": {},
   "source": [
    "### 3. Exploratory Data Analysis"
   ]
  },
  {
   "cell_type": "code",
   "execution_count": 18,
   "metadata": {},
   "outputs": [
    {
     "data": {
      "text/html": [
       "<div>\n",
       "<style scoped>\n",
       "    .dataframe tbody tr th:only-of-type {\n",
       "        vertical-align: middle;\n",
       "    }\n",
       "\n",
       "    .dataframe tbody tr th {\n",
       "        vertical-align: top;\n",
       "    }\n",
       "\n",
       "    .dataframe thead th {\n",
       "        text-align: right;\n",
       "    }\n",
       "</style>\n",
       "<table border=\"1\" class=\"dataframe\">\n",
       "  <thead>\n",
       "    <tr style=\"text-align: right;\">\n",
       "      <th></th>\n",
       "      <th>Tenure</th>\n",
       "      <th>Current Employee</th>\n",
       "      <th>Full-time</th>\n",
       "      <th>Recommended</th>\n",
       "      <th>Positive Outlook</th>\n",
       "      <th>Approves of CEO</th>\n",
       "      <th>Overall Rating</th>\n",
       "      <th>Career Opportunities</th>\n",
       "      <th>Compensation and Benefits</th>\n",
       "      <th>Work/Life Balance</th>\n",
       "      <th>Senior Management</th>\n",
       "      <th>Culture &amp; Values</th>\n",
       "    </tr>\n",
       "  </thead>\n",
       "  <tbody>\n",
       "    <tr>\n",
       "      <th>count</th>\n",
       "      <td>6675.000000</td>\n",
       "      <td>6675.000000</td>\n",
       "      <td>6675.000000</td>\n",
       "      <td>6675.000000</td>\n",
       "      <td>6675.000000</td>\n",
       "      <td>6675.000000</td>\n",
       "      <td>6675.000000</td>\n",
       "      <td>6675.000000</td>\n",
       "      <td>6675.000000</td>\n",
       "      <td>6675.000000</td>\n",
       "      <td>6675.000000</td>\n",
       "      <td>6675.000000</td>\n",
       "    </tr>\n",
       "    <tr>\n",
       "      <th>mean</th>\n",
       "      <td>2.448390</td>\n",
       "      <td>0.562247</td>\n",
       "      <td>0.993109</td>\n",
       "      <td>0.424719</td>\n",
       "      <td>0.003596</td>\n",
       "      <td>0.015730</td>\n",
       "      <td>3.712659</td>\n",
       "      <td>3.435281</td>\n",
       "      <td>3.852285</td>\n",
       "      <td>3.753333</td>\n",
       "      <td>3.198951</td>\n",
       "      <td>3.877004</td>\n",
       "    </tr>\n",
       "    <tr>\n",
       "      <th>std</th>\n",
       "      <td>3.380078</td>\n",
       "      <td>0.496147</td>\n",
       "      <td>0.082734</td>\n",
       "      <td>0.789590</td>\n",
       "      <td>0.084730</td>\n",
       "      <td>0.159293</td>\n",
       "      <td>1.111473</td>\n",
       "      <td>1.113370</td>\n",
       "      <td>0.957898</td>\n",
       "      <td>1.084262</td>\n",
       "      <td>1.187210</td>\n",
       "      <td>1.075096</td>\n",
       "    </tr>\n",
       "    <tr>\n",
       "      <th>min</th>\n",
       "      <td>0.000000</td>\n",
       "      <td>0.000000</td>\n",
       "      <td>0.000000</td>\n",
       "      <td>-1.000000</td>\n",
       "      <td>-1.000000</td>\n",
       "      <td>-1.000000</td>\n",
       "      <td>1.000000</td>\n",
       "      <td>1.000000</td>\n",
       "      <td>1.000000</td>\n",
       "      <td>1.000000</td>\n",
       "      <td>1.000000</td>\n",
       "      <td>1.000000</td>\n",
       "    </tr>\n",
       "    <tr>\n",
       "      <th>25%</th>\n",
       "      <td>0.000000</td>\n",
       "      <td>0.000000</td>\n",
       "      <td>1.000000</td>\n",
       "      <td>0.000000</td>\n",
       "      <td>0.000000</td>\n",
       "      <td>0.000000</td>\n",
       "      <td>3.000000</td>\n",
       "      <td>3.000000</td>\n",
       "      <td>3.000000</td>\n",
       "      <td>3.000000</td>\n",
       "      <td>2.500000</td>\n",
       "      <td>4.000000</td>\n",
       "    </tr>\n",
       "    <tr>\n",
       "      <th>50%</th>\n",
       "      <td>0.500000</td>\n",
       "      <td>1.000000</td>\n",
       "      <td>1.000000</td>\n",
       "      <td>1.000000</td>\n",
       "      <td>0.000000</td>\n",
       "      <td>0.000000</td>\n",
       "      <td>4.000000</td>\n",
       "      <td>3.500000</td>\n",
       "      <td>4.000000</td>\n",
       "      <td>4.000000</td>\n",
       "      <td>3.000000</td>\n",
       "      <td>4.000000</td>\n",
       "    </tr>\n",
       "    <tr>\n",
       "      <th>75%</th>\n",
       "      <td>3.500000</td>\n",
       "      <td>1.000000</td>\n",
       "      <td>1.000000</td>\n",
       "      <td>1.000000</td>\n",
       "      <td>0.000000</td>\n",
       "      <td>0.000000</td>\n",
       "      <td>5.000000</td>\n",
       "      <td>4.000000</td>\n",
       "      <td>5.000000</td>\n",
       "      <td>5.000000</td>\n",
       "      <td>4.000000</td>\n",
       "      <td>5.000000</td>\n",
       "    </tr>\n",
       "    <tr>\n",
       "      <th>max</th>\n",
       "      <td>10.500000</td>\n",
       "      <td>1.000000</td>\n",
       "      <td>1.000000</td>\n",
       "      <td>1.000000</td>\n",
       "      <td>1.000000</td>\n",
       "      <td>1.000000</td>\n",
       "      <td>5.000000</td>\n",
       "      <td>5.000000</td>\n",
       "      <td>5.000000</td>\n",
       "      <td>5.000000</td>\n",
       "      <td>5.000000</td>\n",
       "      <td>5.000000</td>\n",
       "    </tr>\n",
       "  </tbody>\n",
       "</table>\n",
       "</div>"
      ],
      "text/plain": [
       "            Tenure  Current Employee    Full-time  Recommended  \\\n",
       "count  6675.000000       6675.000000  6675.000000  6675.000000   \n",
       "mean      2.448390          0.562247     0.993109     0.424719   \n",
       "std       3.380078          0.496147     0.082734     0.789590   \n",
       "min       0.000000          0.000000     0.000000    -1.000000   \n",
       "25%       0.000000          0.000000     1.000000     0.000000   \n",
       "50%       0.500000          1.000000     1.000000     1.000000   \n",
       "75%       3.500000          1.000000     1.000000     1.000000   \n",
       "max      10.500000          1.000000     1.000000     1.000000   \n",
       "\n",
       "       Positive Outlook  Approves of CEO  Overall Rating  \\\n",
       "count       6675.000000      6675.000000     6675.000000   \n",
       "mean           0.003596         0.015730        3.712659   \n",
       "std            0.084730         0.159293        1.111473   \n",
       "min           -1.000000        -1.000000        1.000000   \n",
       "25%            0.000000         0.000000        3.000000   \n",
       "50%            0.000000         0.000000        4.000000   \n",
       "75%            0.000000         0.000000        5.000000   \n",
       "max            1.000000         1.000000        5.000000   \n",
       "\n",
       "       Career Opportunities  Compensation and Benefits  Work/Life Balance  \\\n",
       "count           6675.000000                6675.000000        6675.000000   \n",
       "mean               3.435281                   3.852285           3.753333   \n",
       "std                1.113370                   0.957898           1.084262   \n",
       "min                1.000000                   1.000000           1.000000   \n",
       "25%                3.000000                   3.000000           3.000000   \n",
       "50%                3.500000                   4.000000           4.000000   \n",
       "75%                4.000000                   5.000000           5.000000   \n",
       "max                5.000000                   5.000000           5.000000   \n",
       "\n",
       "       Senior Management  Culture & Values  \n",
       "count        6675.000000       6675.000000  \n",
       "mean            3.198951          3.877004  \n",
       "std             1.187210          1.075096  \n",
       "min             1.000000          1.000000  \n",
       "25%             2.500000          4.000000  \n",
       "50%             3.000000          4.000000  \n",
       "75%             4.000000          5.000000  \n",
       "max             5.000000          5.000000  "
      ]
     },
     "execution_count": 18,
     "metadata": {},
     "output_type": "execute_result"
    }
   ],
   "source": [
    "df_cleaned.describe()"
   ]
  },
  {
   "cell_type": "code",
   "execution_count": 28,
   "metadata": {},
   "outputs": [
    {
     "data": {
      "image/png": "[encoded data removed]",
      "text/plain": [
       "<Figure size 864x360 with 6 Axes>"
      ]
     },
     "metadata": {
      "needs_background": "light"
     },
     "output_type": "display_data"
    }
   ],
   "source": [
    "# plot all ratings using boxplots\n",
    "\n",
    "import matplotlib.pyplot as plt\n",
    "import warnings \n",
    "warnings.filterwarnings('ignore')\n",
    "\n",
    "column_list = ['Overall Rating','Career Opportunities','Compensation and Benefits',\n",
    "               'Work/Life Balance','Senior Management','Culture & Values']\n",
    "\n",
    "figure, ax = plt.subplots(1,6,figsize=(12,5))  \n",
    "\n",
    "for column, curr_ax in zip(column_list, ax.ravel()):  # use ax.ravel() to flatten ax(2 by 3) in order to zip\n",
    "    curr_ax.boxplot(df_cleaned[column])       \n",
    "    curr_ax.set_title(f'{column}')\n",
    "\n",
    "plt.tight_layout()\n",
    "plt.show() "
   ]
  },
  {
   "cell_type": "markdown",
   "metadata": {},
   "source": [
    "On a scale of 1-5, this company's median overall rating is 4 which is pretty good. Breaking down to 5 categories, employees rated the highest in compensation & benefits and work/life balance. Career opportunities'median rating is 3.5. Senior management rating's median value is 3. Culture & Values has a median rating as 4 but there are a few outliers who rated it pretty low."
   ]
  },
  {
   "cell_type": "code",
   "execution_count": 20,
   "metadata": {},
   "outputs": [
    {
     "data": {
      "image/png": "[encoded data removed]",
      "text/plain": [
       "<Figure size 720x360 with 1 Axes>"
      ]
     },
     "metadata": {
      "needs_background": "light"
     },
     "output_type": "display_data"
    }
   ],
   "source": [
    "# plot overall rating over the years\n",
    "\n",
    "from datetime import datetime\n",
    "fig,ax = plt.subplots(figsize=(10,5))\n",
    "\n",
    "x = sorted(df_cleaned.index.year.unique())\n",
    "y = df_cleaned.groupby(df_cleaned.index.year)['Overall Rating'].mean()\n",
    "\n",
    "ax.plot(x, y, color='red', marker = 'o',label='Overall Rating')\n",
    "ax.set_title('Overall Rating vs. Year', fontweight='bold')\n",
    "ax.set_xlabel('Year')\n",
    "ax.set_ylabel('Overall rating')\n",
    "plt.show()                                    "
   ]
  },
  {
   "cell_type": "markdown",
   "metadata": {},
   "source": [
    "There is a clear trend that the employee satisfaction has been increasing since 2008 with some small dips in 2011, 2013 and 2017."
   ]
  },
  {
   "cell_type": "code",
   "execution_count": 21,
   "metadata": {},
   "outputs": [
    {
     "data": {
      "image/png": "[encoded data removed]",
      "text/plain": [
       "<Figure size 864x360 with 1 Axes>"
      ]
     },
     "metadata": {
      "needs_background": "light"
     },
     "output_type": "display_data"
    }
   ],
   "source": [
    "column_list = ['Overall Rating','Career Opportunities','Compensation and Benefits',\n",
    "               'Work/Life Balance','Senior Management','Culture & Values']\n",
    "\n",
    "sub_ratings = df_cleaned[column_list].mean()\n",
    "\n",
    "figure, ax = plt.subplots(figsize=(12,5))  \n",
    "ax.bar(sub_ratings.index, sub_ratings)\n",
    "\n",
    "ax.set_title ('Sub-categories Average Ratings', fontweight='bold')\n",
    "ax.set_ylabel ('Average Ratings')\n",
    "ax.set_xticklabels(sub_ratings.index,rotation=90)\n",
    "plt.show() "
   ]
  },
  {
   "cell_type": "code",
   "execution_count": 22,
   "metadata": {},
   "outputs": [
    {
     "name": "stdout",
     "output_type": "stream",
     "text": [
      "Total unique states in the data: 39\n"
     ]
    }
   ],
   "source": [
    "total_states = df_cleaned.State.nunique()\n",
    "print(f'Total unique states in the data: {total_states}')"
   ]
  },
  {
   "cell_type": "code",
   "execution_count": 23,
   "metadata": {},
   "outputs": [
    {
     "data": {
      "image/png": "[encoded data removed]",
      "text/plain": [
       "<Figure size 720x360 with 1 Axes>"
      ]
     },
     "metadata": {
      "needs_background": "light"
     },
     "output_type": "display_data"
    }
   ],
   "source": [
    "# plot the 10 states with top ratings \n",
    "\n",
    "top_10 = df_cleaned.groupby('State')['Overall Rating'].mean().nlargest(10)\n",
    "\n",
    "fig,ax = plt.subplots(figsize=(10,5))\n",
    "ax.bar(top_10.index,top_10)\n",
    "ax.set_title('Top 10 States with Highest Ratings ', fontweight='bold')\n",
    "ax.set_xlabel('States')\n",
    "ax.set_ylabel('Overall rating')\n",
    "plt.show()"
   ]
  },
  {
   "cell_type": "code",
   "execution_count": 24,
   "metadata": {},
   "outputs": [
    {
     "data": {
      "image/png": "[encoded data removed]",
      "text/plain": [
       "<Figure size 720x360 with 1 Axes>"
      ]
     },
     "metadata": {
      "needs_background": "light"
     },
     "output_type": "display_data"
    }
   ],
   "source": [
    "# plot the 5 states with lowest ratings \n",
    "\n",
    "lowest_5 = df_cleaned.groupby('State')['Overall Rating'].mean().nsmallest(5)\n",
    "\n",
    "fig,ax = plt.subplots(figsize=(10,5))\n",
    "ax.bar(lowest_5.index,lowest_5)\n",
    "ax.set_title('Top 5 States with Lowest Ratings ', fontweight='bold')\n",
    "ax.set_xlabel('States')\n",
    "ax.set_ylabel('Overall rating')\n",
    "plt.show()"
   ]
  },
  {
   "cell_type": "markdown",
   "metadata": {},
   "source": [
    "Looks like employees in KS and WI have the highest employee satisfaction and employees in NE are the unhappest. Of note, the location data indicates 'Author Location', we assumed these employees are based locally in the company's branches in that particular state. If there are substantial remote employees, this conclusion may not be accurate. "
   ]
  },
  {
   "cell_type": "code",
   "execution_count": 25,
   "metadata": {},
   "outputs": [
    {
     "data": {
      "text/plain": [
       "Full-time\n",
       "0    4.195652\n",
       "1    3.709308\n",
       "Name: Overall Rating, dtype: float64"
      ]
     },
     "execution_count": 25,
     "metadata": {},
     "output_type": "execute_result"
    }
   ],
   "source": [
    "df_cleaned.groupby('Full-time')['Overall Rating'].mean()"
   ]
  },
  {
   "cell_type": "code",
   "execution_count": 26,
   "metadata": {},
   "outputs": [
    {
     "data": {
      "image/png": "[encoded data removed]",
      "text/plain": [
       "<Figure size 432x288 with 1 Axes>"
      ]
     },
     "metadata": {
      "needs_background": "light"
     },
     "output_type": "display_data"
    }
   ],
   "source": [
    "rate_by_fte = df_cleaned.groupby('Full-time')['Overall Rating'].mean()\n",
    "\n",
    "fig, ax = plt.subplots()\n",
    "ax.bar(['Part_Time', 'Full_Time'], rate_by_fte)\n",
    "ax.set_title('Overall Ratings by FTE', fontweight='bold')\n",
    "ax.set_ylabel('Overall rating')\n",
    "plt.show()"
   ]
  },
  {
   "cell_type": "markdown",
   "metadata": {},
   "source": [
    "Part-time employees have higher satisfaction than full-time employees."
   ]
  },
  {
   "cell_type": "code",
   "execution_count": 27,
   "metadata": {},
   "outputs": [
    {
     "data": {
      "image/png": "[encoded data removed]",
      "text/plain": [
       "<Figure size 432x288 with 1 Axes>"
      ]
     },
     "metadata": {
      "needs_background": "light"
     },
     "output_type": "display_data"
    }
   ],
   "source": [
    "rate_by_emp_type = df_cleaned.groupby('Current Employee')['Overall Rating'].mean()\n",
    "\n",
    "fig, ax = plt.subplots()\n",
    "ax.bar(['Former Employee', 'Current Employee'], rate_by_emp_type)\n",
    "ax.set_title('Overall Ratings by Employee Type', fontweight='bold')\n",
    "ax.set_ylabel('Overall rating')\n",
    "plt.show()"
   ]
  },
  {
   "cell_type": "markdown",
   "metadata": {},
   "source": [
    "Former employees gave relatively lower ratings than current employees, this is understandable because unhappy employees tend to leave."
   ]
  },
  {
   "cell_type": "code",
   "execution_count": 29,
   "metadata": {},
   "outputs": [],
   "source": [
    "df_cleaned.to_csv('df_cleaned.csv')"
   ]
  }
 ],
 "metadata": {
  "kernelspec": {
   "display_name": "Python 3",
   "language": "python",
   "name": "python3"
  },
  "language_info": {
   "codemirror_mode": {
    "name": "ipython",
    "version": 3
   },
   "file_extension": ".py",
   "mimetype": "text/x-python",
   "name": "python",
   "nbconvert_exporter": "python",
   "pygments_lexer": "ipython3",
   "version": "3.6.10"
  }
 },
 "nbformat": 4,
 "nbformat_minor": 4
}
